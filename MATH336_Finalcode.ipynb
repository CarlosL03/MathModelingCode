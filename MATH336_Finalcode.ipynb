{
 "cells": [
  {
   "cell_type": "code",
   "execution_count": 1,
   "id": "1068b4ea-ec5d-4e1c-ad5a-a6c591075cb4",
   "metadata": {},
   "outputs": [],
   "source": [
    "#libraries used in this notebook\n",
    "import math \n",
    "import matplotlib.pyplot as plt\n",
    "import numpy as np\n",
    "import pandas as pd\n",
    "import os"
   ]
  },
  {
   "cell_type": "code",
   "execution_count": 2,
   "id": "8abe9dcd-0359-4d9a-b768-30aefce9e164",
   "metadata": {},
   "outputs": [],
   "source": [
    "#change working directory\n",
    "os.chdir('/Users/carlos_lopez/MATH336/')"
   ]
  },
  {
   "cell_type": "markdown",
   "id": "3098677c-e896-4986-821b-46c2feeae1f4",
   "metadata": {},
   "source": [
    "# 2. Buffon's Needle Problem"
   ]
  },
  {
   "cell_type": "markdown",
   "id": "cb87cd1f-608b-4c2e-8631-0fb1c440a551",
   "metadata": {},
   "source": [
    "## 2. c). Monte Carlo Simulation"
   ]
  },
  {
   "cell_type": "code",
   "execution_count": 5,
   "id": "ecf332e8-c617-40b9-a4c0-c0cf49de2383",
   "metadata": {},
   "outputs": [
    {
     "name": "stdout",
     "output_type": "stream",
     "text": [
      "Monte Carlo simulation approximation of probability: 0.495294\n",
      "Formula result of needle crossing probability: 0.495149\n"
     ]
    }
   ],
   "source": [
    "from numpy import random as rando\n",
    "\n",
    "N = 500_000 #number of experiments/samples\n",
    "d = 8.1 #inches\n",
    "l = 6.3 #inches\n",
    "\n",
    "#generate needle endpoints distances for y∈[0,d] \n",
    "ys = rando.uniform(low=0, high=d, size=(N,1))\n",
    "#generate needle angles for θ∈[-π/2,π/2]\n",
    "thetas = rando.uniform(low=-np.pi/2, high=np.pi/2, size=(N,1))\n",
    "#calculate the sum of the y's and θy (θ vertical component)\n",
    "# to find where each needle lies\n",
    "res = ys + l*np.cos(thetas)\n",
    "#find number of times crossing condition was met: y+lcosθ≥d\n",
    "k = len(np.where(res >= d)[0])\n",
    "\n",
    "print(f\"Monte Carlo simulation approximation of probability: {round(k/N, 6)}\")\n",
    "print(f\"Formula result of needle crossing probability: {round((2*l)/(np.pi*d), 6)}\")"
   ]
  },
  {
   "cell_type": "markdown",
   "id": "789e0cff-1a6f-44f8-a049-1b3fe2212a79",
   "metadata": {},
   "source": [
    "# 3. SVD Analysis"
   ]
  },
  {
   "cell_type": "markdown",
   "id": "278b92e7-427f-4b9e-90eb-d26911481808",
   "metadata": {},
   "source": [
    "## 3. b). Find original matrix A"
   ]
  },
  {
   "cell_type": "code",
   "execution_count": 8,
   "id": "4b323c1d-8329-4c84-9480-b7a0078be012",
   "metadata": {},
   "outputs": [
    {
     "name": "stdout",
     "output_type": "stream",
     "text": [
      "(2, 2) (2,) (4, 2) (2, 4)\n",
      "A =\t [ 2.01 -0.97  0.01  2.98]\n",
      "\t [ 0.99  3.    4.04 -2.01]\n",
      "\n",
      "Another method of reconstruction:\n",
      "A =\t [ 2.01 -0.97  0.01  2.98]\n",
      "\t [ 0.99  3.    4.04 -2.01]\n"
     ]
    }
   ],
   "source": [
    "U = np.array([[-0.35, 0.94],[ 0.94, 0.35]])\n",
    "D = np.array([5.71, 3.37])\n",
    "#np.array([[5.71, 0], [0, 3.37]])\n",
    "V = np.array([[ 0.04, 0.66], [ 0.55, 0.04],\n",
    "              [ 0.66, 0.42], [-0.51, 0.62]])\n",
    "Vt = V.transpose()\n",
    "print(U.shape, D.shape, V.shape, Vt.shape)\n",
    "#print(\"U=\", U)\n",
    "#print(\"D=\", D)\n",
    "#print(\"Vt=\", Vt)\n",
    "\n",
    "A = np.dot(U*D, Vt)\n",
    "print(\"A =\", end=\"\")\n",
    "for i in np.round(A,2):\n",
    "    print(\"\\t\", i)\n",
    "\n",
    "print(\"\\nAnother method of reconstruction:\")\n",
    "\n",
    "A = np.dot(U, np.dot(np.diag(D), Vt))\n",
    "print(\"A =\", end=\"\")\n",
    "for i in np.round(A,2):\n",
    "    print(\"\\t\", i)"
   ]
  },
  {
   "cell_type": "code",
   "execution_count": 9,
   "id": "94a3d065-2004-40e4-9463-88b0020a6ce2",
   "metadata": {},
   "outputs": [
    {
     "name": "stdout",
     "output_type": "stream",
     "text": [
      "U= [[-0.35  0.94]\n",
      " [ 0.94  0.35]]\n",
      "d= [5.71 3.37]\n",
      "V= [[ 0.04  0.66]\n",
      " [ 0.55  0.04]\n",
      " [ 0.66  0.42]\n",
      " [-0.51  0.62]]\n"
     ]
    }
   ],
   "source": [
    "#Verify results above by rounding to nearest integer\n",
    "A = np.array([[2,-1,0,3],[1,3,4,-2]])\n",
    "Us, S, Vh = np.linalg.svd(A, full_matrices=False)\n",
    "U = np.round(Us, 2)\n",
    "d = np.round(S, 2)\n",
    "V = np.round(Vh.transpose(), 2)\n",
    "print(\"U=\", U)\n",
    "print(\"d=\", d)\n",
    "print(\"V=\", V)"
   ]
  },
  {
   "cell_type": "markdown",
   "id": "93af1e81-b842-4560-ace8-99e86794d642",
   "metadata": {},
   "source": [
    "# 4. Fluid mixing problem"
   ]
  },
  {
   "cell_type": "markdown",
   "id": "5cd11657-f285-400b-813e-88c9fc9425d4",
   "metadata": {},
   "source": [
    "## 4. b). Solve the time needed to reduce salt concentration"
   ]
  },
  {
   "cell_type": "code",
   "execution_count": 45,
   "id": "bde2c70d-cd8f-488b-8fd2-ca29b2f02c9a",
   "metadata": {},
   "outputs": [
    {
     "name": "stdout",
     "output_type": "stream",
     "text": [
      "Time taken to reduce salt concentration by 50% is: 7.846634 minutes\n"
     ]
    }
   ],
   "source": [
    "#formula for t as a function of x\n",
    "t = lambda x: -8*np.log((x-8)/32)\n",
    "#salt concentration that is 50% of the initial 40\n",
    "x = 20\n",
    "#print result of time function with salt concentration input\n",
    "print(f\"Time taken to reduce salt concentration by 50% is: {round(t(x),6)} minutes\")"
   ]
  },
  {
   "cell_type": "markdown",
   "id": "65d7b0b9-aef0-416e-acc4-b9217c0120dd",
   "metadata": {},
   "source": [
    "## 4. c). Changing the out-flow rate"
   ]
  },
  {
   "cell_type": "code",
   "execution_count": 48,
   "id": "c88085f1-0785-4921-8def-9e9d09078df7",
   "metadata": {},
   "outputs": [
    {
     "name": "stdout",
     "output_type": "stream",
     "text": [
      "Time taken to reduce salt concentration by 50% is: 8.44886 minutes\n"
     ]
    }
   ],
   "source": [
    "#new derived formula for t as a function of x with different out-flow rate\n",
    "t = lambda x: (-80/9.5)*np.log((9.5*x-80)/300)\n",
    "#input salt concentration that is 50% of the initial 40\n",
    "x = 20\n",
    "#print result of time function with salt concentration input\n",
    "print(f\"Time taken to reduce salt concentration by 50% is: {round(t(x),6)} minutes\")"
   ]
  },
  {
   "cell_type": "markdown",
   "id": "a7575fbd-4f0d-413b-b338-53327aea0a6a",
   "metadata": {},
   "source": [
    "# 5. Python Programming"
   ]
  },
  {
   "cell_type": "markdown",
   "id": "656fc24e-b98f-400e-ae56-2bd3e7c5ff7e",
   "metadata": {},
   "source": [
    "## 5. i). Solve System of Linear Equations"
   ]
  },
  {
   "cell_type": "code",
   "execution_count": 12,
   "id": "8dcc923c-5f44-4ade-8f22-69f5d5eb1849",
   "metadata": {},
   "outputs": [
    {
     "name": "stdout",
     "output_type": "stream",
     "text": [
      "x1: -2.819787\n",
      "x2: -0.571928\n",
      "x3: -2.917323\n",
      "x4: 6.200646\n",
      "x5: 2.537331\n",
      "x6: -3.325931\n"
     ]
    }
   ],
   "source": [
    "A = np.array([ \n",
    "    [-3, 2, 1, -1, 2.1, 1],\n",
    "    [-1.5, -5.5, 1, 0, -1.9, -0.5],\n",
    "    [1.5, -3.5, -6, -3, 0, -1],\n",
    "    [-1.8, -1, -5.1, -3.4, 0, -1.4],\n",
    "    [2, 5.6, 2, -2, 8.1, -1],\n",
    "    [1, 0, -1, 0, 2.1, 1]\n",
    "])\n",
    "b = np.array([0.2, 1.3, 0, 4.1, -3.2, 2.1])\n",
    "#print(A.shape, b.shape)\n",
    "\n",
    "x = np.linalg.solve(A, b)\n",
    "for i in range(len(x)):\n",
    "    print(f\"x{i+1}: {round(x[i],6)}\")"
   ]
  },
  {
   "cell_type": "markdown",
   "id": "d5958d4e-c5ff-49b1-b368-206be371bc46",
   "metadata": {},
   "source": [
    "## 5. ii). Monte Carlo Simulation of 6-D ball volume"
   ]
  },
  {
   "cell_type": "code",
   "execution_count": 14,
   "id": "15e5ac66-9bea-456f-914d-7c9ab8d75e40",
   "metadata": {},
   "outputs": [
    {
     "name": "stdout",
     "output_type": "stream",
     "text": [
      "Estimated volume: 3778.90272\n",
      "Actual volume from formula: 3767.262617\n"
     ]
    }
   ],
   "source": [
    "# Monte Carlo simulation for 6-dimensional ball volume\n",
    "R = 3 #radius of ball\n",
    "N = 600_000 #sample size\n",
    "n = 6 #number of dimensions\n",
    "#generate N random points in n-dimensional space between -R and R\n",
    "points = np.random.uniform(-R, R, size=(N, n))\n",
    "#compute the squared distance of each point from the origin\n",
    "squared_distances = np.sum(points**2, axis=1)\n",
    "#count the points that lie within the ball\n",
    "inside_ball = np.sum(squared_distances <= R**2)\n",
    "#volume of the enclosing hypercube\n",
    "hypercube_volume = (2 * R)**n\n",
    "#estimate the volume of the ball\n",
    "ball_volume = hypercube_volume * (inside_ball / N)\n",
    "print(f\"Estimated volume: {round(ball_volume,6)}\")\n",
    "exact_volume = (np.pi**3)*(R**6)/6\n",
    "print(f\"Actual volume from formula: {round(exact_volume,6)}\")"
   ]
  },
  {
   "cell_type": "markdown",
   "id": "697184c2-0fb2-47f5-8a16-2d646a015416",
   "metadata": {},
   "source": [
    "## 5. iii). Monte Carlo approximation of integral"
   ]
  },
  {
   "cell_type": "code",
   "execution_count": 16,
   "id": "2dc549d2-b7a0-46b0-ba04-5f850c085391",
   "metadata": {},
   "outputs": [
    {
     "name": "stdout",
     "output_type": "stream",
     "text": [
      "Estimated Monte Carlo approximation of integral: 0.23926\n"
     ]
    }
   ],
   "source": [
    "#Monte Carlo approximation of integral using 100,000 points\n",
    "\n",
    "#Define the function inside the integral\n",
    "f = lambda x: (1+np.sin(1+x**4))/((1+x**2)*(2+np.cos(x)**2))\n",
    "\n",
    "N = 100_000 #number of points\n",
    "a = 1 #lower limit of integral bounds\n",
    "b = 4 #upper limit of integral bounds\n",
    "\n",
    "#generate N points between a and b\n",
    "points = np.random.uniform(a, b, size=(N, 1))\n",
    "\n",
    "integral = 0.0\n",
    "for p in points:\n",
    "    integral += f(p)\n",
    "\n",
    "res = (b-a)/float(N)*integral[0]\n",
    "print(f\"Estimated Monte Carlo approximation of integral: {round(res,5)}\")"
   ]
  },
  {
   "cell_type": "markdown",
   "id": "80dabd1e-beda-467a-9565-a24589696282",
   "metadata": {},
   "source": [
    "## 5. iv). Global average temperature anomaly plotting"
   ]
  },
  {
   "cell_type": "code",
   "execution_count": 18,
   "id": "cd150374-7dae-4281-a368-a9a294e250be",
   "metadata": {},
   "outputs": [
    {
     "name": "stdout",
     "output_type": "stream",
     "text": [
      "(166, 13)\n",
      "        JAN    FEB    MAR    APR    MAY    JUN    JUL    AUG    SEP    OCT  \\\n",
      "YEAR                                                                         \n",
      "1850 -0.702 -0.284 -0.732 -0.570 -0.325 -0.213 -0.128 -0.233 -0.444 -0.452   \n",
      "1851 -0.303 -0.362 -0.485 -0.445 -0.302 -0.189 -0.215 -0.153 -0.108 -0.063   \n",
      "1852 -0.308 -0.477 -0.505 -0.559 -0.209 -0.038 -0.016 -0.195 -0.125 -0.216   \n",
      "1853 -0.177 -0.330 -0.318 -0.352 -0.268 -0.179 -0.059 -0.148 -0.409 -0.359   \n",
      "1854 -0.360 -0.280 -0.284 -0.349 -0.230 -0.215 -0.228 -0.163 -0.115 -0.188   \n",
      "\n",
      "        NOV    DEC  ANNUAL  \n",
      "YEAR                        \n",
      "1850 -0.190 -0.268  -0.375  \n",
      "1851 -0.030 -0.067  -0.223  \n",
      "1852 -0.187  0.083  -0.224  \n",
      "1853 -0.256 -0.444  -0.271  \n",
      "1854 -0.369 -0.232  -0.246  \n"
     ]
    }
   ],
   "source": [
    "#read dataset file from file path\n",
    "file_path = 'data/EarthTemperatureData.csv'\n",
    "df = pd.read_csv(file_path, header=0, index_col=0)\n",
    "print(df.shape)\n",
    "print(df.head(5))"
   ]
  },
  {
   "cell_type": "code",
   "execution_count": 19,
   "id": "b611a7a4-0260-47a8-810d-f39595a725cd",
   "metadata": {},
   "outputs": [
    {
     "data": {
      "text/plain": [
       "array([-0.452, -0.063, -0.216, -0.359, -0.188, -0.211, -0.384, -0.467,\n",
       "       -0.2  , -0.255, -0.198, -0.355, -0.42 , -0.381, -0.701, -0.272,\n",
       "       -0.417, -0.179, -0.232, -0.422, -0.393, -0.479, -0.225, -0.402,\n",
       "       -0.436, -0.371, -0.385,  0.055, -0.12 , -0.121, -0.387, -0.284,\n",
       "       -0.337, -0.381, -0.322, -0.249, -0.363, -0.506, -0.106, -0.299,\n",
       "       -0.504, -0.332, -0.444, -0.271, -0.443, -0.343, -0.13 , -0.262,\n",
       "       -0.561, -0.189, -0.06 , -0.298, -0.486, -0.658, -0.48 , -0.37 ,\n",
       "       -0.353, -0.359, -0.586, -0.48 , -0.484, -0.465, -0.643, -0.429,\n",
       "       -0.153, -0.259, -0.403, -0.39 , -0.098, -0.305, -0.224, -0.139,\n",
       "       -0.322, -0.264, -0.313, -0.305, -0.085, -0.04 , -0.169, -0.18 ,\n",
       "       -0.093, -0.04 , -0.172, -0.198, -0.084, -0.076, -0.003,  0.121,\n",
       "        0.147, -0.273,  0.013,  0.219, -0.076,  0.237,  0.212,  0.185,\n",
       "       -0.048,  0.077,  0.031, -0.032, -0.125,  0.129, -0.009,  0.073,\n",
       "       -0.036, -0.164, -0.23 , -0.013,  0.015, -0.035, -0.027, -0.031,\n",
       "        0.045,  0.224, -0.268, -0.03 , -0.105,  0.06 , -0.018,  0.023,\n",
       "       -0.074, -0.16 ,  0.002, -0.041, -0.215, -0.228, -0.313, -0.006,\n",
       "       -0.116,  0.131,  0.007,  0.003,  0.005,  0.099, -0.023,  0.021,\n",
       "        0.064,  0.2  ,  0.146,  0.154,  0.33 ,  0.187, -0.05 ,  0.098,\n",
       "        0.307,  0.329,  0.135,  0.554,  0.404,  0.254,  0.222,  0.417,\n",
       "        0.407,  0.612,  0.472,  0.608,  0.562,  0.481,  0.547,  0.515,\n",
       "        0.496,  0.453,  0.556,  0.497,  0.626,  0.82 ])"
      ]
     },
     "execution_count": 19,
     "metadata": {},
     "output_type": "execute_result"
    }
   ],
   "source": [
    "#extract October data from dataframe\n",
    "octData = np.array(df.loc['1850':'2015','OCT'])\n",
    "octData"
   ]
  },
  {
   "cell_type": "code",
   "execution_count": 37,
   "id": "baf376fd-d016-4e5d-8e08-c510158fb8db",
   "metadata": {},
   "outputs": [
    {
     "name": "stdout",
     "output_type": "stream",
     "text": [
      "Linear trend = 0.006 deg C/year\n"
     ]
    },
    {
     "data": {
      "image/png": "[encoded data removed]",
      "text/plain": [
       "<Figure size 1000x600 with 1 Axes>"
      ]
     },
     "metadata": {},
     "output_type": "display_data"
    },
    {
     "data": {
      "text/plain": [
       "<Figure size 640x480 with 0 Axes>"
      ]
     },
     "metadata": {},
     "output_type": "display_data"
    }
   ],
   "source": [
    "years = np.arange(1850, 2016)\n",
    "\n",
    "plt.figure(figsize=(10,6))\n",
    "#(b) make curve red and use linewidth 3\n",
    "plt.plot(years, octData.astype(float), color='red', linewidth=3)\n",
    "plt.xlabel('Year', size = 14)\n",
    "plt.ylabel('Temperature [deg C]', size = 14)\n",
    "#(a) Change title to my name and October\n",
    "plt.title(\"Carlos Lopez's plot of October temperature anomalies\", \n",
    "          size = 16, fontweight=\"bold\")\n",
    "plt.tick_params(direction='in',labelsize=14)\n",
    "plt.xlim([1850, 2015])\n",
    "plt.ylim([-1, 1])\n",
    "\n",
    "#(c) compute the linear trend for the period from 1901 to 2000\n",
    "octperiod = octData[51:150]\n",
    "period = np.arange(1901, 2000)\n",
    "temTrend = np.polyfit(period, octperiod.astype(float), 1)\n",
    "print(\"Linear trend =\", round(temTrend[0], 6), \"deg C/year\")\n",
    "#(d) plot the trend line from 1901-2000 in blue and linewidth=5\n",
    "plt.plot(period, temTrend[1] + temTrend[0]*period, 'blue', linewidth=5)\n",
    "#(e) plot text for 1901-200 October trend\n",
    "plt.text(1860, 0.60, \"1901-2000 October trend = 0.6 deg C per century\", size = 14)\n",
    "plt.show()\n",
    "#(f) save plot as a png file\n",
    "plt.savefig('OctoberTempAnomalies.png')"
   ]
  },
  {
   "cell_type": "code",
   "execution_count": 21,
   "id": "7a380494-f1af-4a3b-80e9-6c083eca441e",
   "metadata": {},
   "outputs": [
    {
     "name": "stdout",
     "output_type": "stream",
     "text": [
      "The hottest October temp anomaly was 0.82 deg C, which occured in 2015\n",
      "The coldest October temp anomaly was -0.701 deg C, which occured in 1864\n"
     ]
    }
   ],
   "source": [
    "#(g) Find hottest and coldest October temp anomalies and the years they occured in\n",
    "hottest = np.max(octData)\n",
    "hotyear = np.argmax(octData) + 1850\n",
    "coldest = np.min(octData)\n",
    "coldyear = np.argmin(octData) + 1850\n",
    "\n",
    "print(f\"The hottest October temp anomaly was {hottest} deg C, which occured in {hotyear}\")\n",
    "print(f\"The coldest October temp anomaly was {coldest} deg C, which occured in {coldyear}\")"
   ]
  },
  {
   "cell_type": "code",
   "execution_count": null,
   "id": "268fc86f-c3c5-4903-b087-b23710d68219",
   "metadata": {},
   "outputs": [],
   "source": []
  }
 ],
 "metadata": {
  "kernelspec": {
   "display_name": "Python 3 (ipykernel)",
   "language": "python",
   "name": "python3"
  },
  "language_info": {
   "codemirror_mode": {
    "name": "ipython",
    "version": 3
   },
   "file_extension": ".py",
   "mimetype": "text/x-python",
   "name": "python",
   "nbconvert_exporter": "python",
   "pygments_lexer": "ipython3",
   "version": "3.11.4"
  }
 },
 "nbformat": 4,
 "nbformat_minor": 5
}
