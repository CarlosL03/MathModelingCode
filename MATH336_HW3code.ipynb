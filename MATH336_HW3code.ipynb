{
 "cells": [
  {
   "cell_type": "code",
   "execution_count": 6,
   "id": "0ff5150b-2aa6-4f8f-86f4-c6e7439c4dd4",
   "metadata": {},
   "outputs": [],
   "source": [
    "#import libraries\n",
    "import math\n",
    "import matplotlib.pyplot as plt\n",
    "import numpy as np\n",
    "import pandas as pd\n",
    "from numpy import random as rando\n",
    "import os"
   ]
  },
  {
   "cell_type": "code",
   "execution_count": 52,
   "id": "142f9dbe-a417-4f76-aa30-af43533ac77b",
   "metadata": {},
   "outputs": [],
   "source": [
    "#change working directory\n",
    "os.chdir('/Users/carlos_lopez/MATH336/')"
   ]
  },
  {
   "cell_type": "markdown",
   "id": "2f925e2e-51d4-4585-bb6e-ab5698323dd6",
   "metadata": {},
   "source": [
    "# 7.5"
   ]
  },
  {
   "cell_type": "code",
   "execution_count": 10,
   "id": "21047b1c-b387-4898-bb8b-2166a1bfa74a",
   "metadata": {},
   "outputs": [
    {
     "name": "stdout",
     "output_type": "stream",
     "text": [
      "Estimated elevation in meters = 1763.21\n"
     ]
    }
   ],
   "source": [
    "#Mountain Mitchell's elevation \n",
    "#using data from 11/20/24, 7:40PM EST\n",
    "\n",
    "p1 = 918.2 #BURN station air pressure with units [mb]\n",
    "p2 = 818.8 #air pressure at MTCH station with units [mb]\n",
    "T1C = (42.4 - 32)*5/9 #BURN temp from deg F to deg C\n",
    "T1 = 273.15 + T1C #BURN temp in Kelvin\n",
    "T2C = (46.9 - 32)*5/9 #MTCH temp from deg F to deg C\n",
    "T2 = 273.15 + T2C #MTCH temp in Kelvin\n",
    "g = 9.80665 #m/s^2 (acceleration due to gravity)\n",
    "z1f = 2702 # BURN elevation in feet\n",
    "z1 = z1f*0.3048 #z1 in meters\n",
    "R = 287.055 #Gas constant\n",
    "\n",
    "z2 = z1 + (2*R * T1 * T2 / (g* (T1 + T2))) * math.log(p1 / p2)\n",
    "\n",
    "#show result\n",
    "print(f\"Estimated elevation in meters = {round(z2, 2)}\")"
   ]
  },
  {
   "cell_type": "markdown",
   "id": "6c49cc98-41ff-44a4-8a90-e564932aec66",
   "metadata": {},
   "source": [
    "# 7.6"
   ]
  },
  {
   "cell_type": "code",
   "execution_count": 13,
   "id": "86c21a6f-bfbb-4193-8e2f-399fbd6a285f",
   "metadata": {},
   "outputs": [
    {
     "name": "stdout",
     "output_type": "stream",
     "text": [
      "Estimated elevation in feet = 4241.03\n",
      "Actual elevation in feet = 4279\n"
     ]
    }
   ],
   "source": [
    "#Sweeney Granite Mountains Desert Research Center elevation\n",
    "#using data from 11/21/24, 15:00PM PST\n",
    "\n",
    "p1 = 880 #Burns Piñon air pressure with units [mb]\n",
    "p2 = 875 #Granite Mountains air pressure with units [mb]\n",
    "T1C = (67.7 - 32)*5/9 #Burns Piñon temp from deg F to deg C\n",
    "T1 = 273.15 + T1C #Burns Piñon temp in Kelvin\n",
    "T2C = (64.4 - 32)*5/9 #Granite Mt. temp from deg F to deg C\n",
    "T2 = 273.15 + T2C #Granite Mt. temp in Kelvin\n",
    "g = 9.80665 #m/s^2 (acceleration due to gravity)\n",
    "z1f = 4081 # Burns Piñon elevation in feet\n",
    "z1 = z1f*0.3048 #z1 in meters\n",
    "R = 287.055 #Gas constant\n",
    "#Calculation\n",
    "z2 = z1 + (2*R * T1 * T2 / (g* (T1 + T2))) * math.log(p1 / p2)\n",
    "\n",
    "#Compare Results\n",
    "z2_actual = 4279 #in feet\n",
    "print(f\"Estimated elevation in feet = {round(z2*3.281, 2)}\") #convert meters to ft\n",
    "print(f\"Actual elevation in feet = {z2_actual}\")"
   ]
  },
  {
   "cell_type": "markdown",
   "id": "47e27e3d-87b2-49be-8dca-0d44b96e5324",
   "metadata": {},
   "source": [
    "# 7.11"
   ]
  },
  {
   "cell_type": "code",
   "execution_count": 50,
   "id": "8cb5e1f2-5470-416a-b4da-99f48319ac71",
   "metadata": {},
   "outputs": [
    {
     "name": "stdout",
     "output_type": "stream",
     "text": [
      "Estimated sum of Stefan-Boltzmann law: 6.4939\n",
      "Actual derivation of Stefan-Boltzmann law: 6.4939\n"
     ]
    }
   ],
   "source": [
    "count = 0 #initialize counter to track sum of the series\n",
    "N = 10_000 #initialize number of iterations to approximate the sum\n",
    "for i in range(1, N):\n",
    "    count += 6 / i**4 #add to sum by calculating current value of series function\n",
    "\n",
    "print(f\"Estimated sum of Stefan-Boltzmann law: {round(count,4)}\")\n",
    "print(f\"Actual derivation of Stefan-Boltzmann law: {round((np.pi**4)/15, 4)}\")"
   ]
  },
  {
   "cell_type": "markdown",
   "id": "b911d803-4ec2-440f-8184-126d6ceac6c2",
   "metadata": {},
   "source": [
    "# 8.1 (c)"
   ]
  },
  {
   "cell_type": "code",
   "execution_count": 10,
   "id": "3cc2d1a0-0202-4589-9e32-714901e835c3",
   "metadata": {},
   "outputs": [
    {
     "name": "stdout",
     "output_type": "stream",
     "text": [
      "Probability of Needle Crossing by simulation: 0.7825\n",
      "Probability of Needle Crossing by derived formula: 0.7786080607366551\n"
     ]
    }
   ],
   "source": [
    "#Simulate Buffon's needle problem for l > d\n",
    "d = 4 # Gap Width\n",
    "l = 6 # Needle Length( l > d )\n",
    "n = 10_000 # number of simulations\n",
    "ys = rando.uniform(low=0, high=d, size=(n,1)) #generate rand y values\n",
    "thetas = rando.uniform(low=-np.pi/2, high=np.pi/2, size=(n,1)) #generate rand theta values\n",
    "res = ys + l*np.cos(thetas) #Calculate y+lcos(theta) for all samples\n",
    "k = len(np.where(res >= d)[0]) #count where y+lcos(theta) ≥ d which means a crossing occured\n",
    "\n",
    "def probLongNeedleCrossing(l, d): #function based on derived formula\n",
    "    return (2/(np.pi*d))*(np.arccos(d/l)*d + l - np.sqrt(l**2 - d**2))\n",
    "\n",
    "print(f\"Probability of Needle Crossing by simulation: {k/n}\")\n",
    "print(f\"Probability of Needle Crossing by derived formula: \"\n",
    "      f\"{probLongNeedleCrossing(l, d)}\")"
   ]
  },
  {
   "cell_type": "markdown",
   "id": "25da0008-5110-435e-bbba-1b785841ce6d",
   "metadata": {},
   "source": [
    "# 8.2"
   ]
  },
  {
   "cell_type": "code",
   "execution_count": 25,
   "id": "df363844-3ed8-4094-bfae-60f3c36a4517",
   "metadata": {},
   "outputs": [
    {
     "name": "stdout",
     "output_type": "stream",
     "text": [
      "Percentage of points inside a ball = 0.35000000000000003% \n",
      "Estimated volume: 4.18816\n",
      "Actual volume from formula: 4.1887902047863905\n"
     ]
    }
   ],
   "source": [
    "# Monte Carlo simulation for 8-dimensional ball volume\n",
    "R = 1 #radius is 1 for a unit ball\n",
    "N = 50_000 #Sample size\n",
    "n = 8 #number of dimensions\n",
    "#generate N random points in n-dimensional space between -R and R\n",
    "coords = rando.uniform(low=-R, high=R, size=(N, n))\n",
    "#count the points that fall in the unit circle range\n",
    "k = 0\n",
    "for i in range(N):\n",
    "    if np.dot(coords[i,:], coords[i,:]) < 1:\n",
    "        k += 1\n",
    "\n",
    "#print(f\"Number of points inside the unit ball: {k}\")\n",
    "print(f\"Percentage of points inside a ball = {(len(reds)/len(coords[:,0]))*100}% \")\n",
    "print(f\"Estimated volume: {(k/N) * 2**n}\")\n",
    "print(f\"Actual volume from formula: {4*np.pi*(R**3)/3}\")"
   ]
  },
  {
   "cell_type": "markdown",
   "id": "8b1a7ee4-5231-426f-96ee-3dd0df5d550c",
   "metadata": {},
   "source": [
    "# 8.3"
   ]
  },
  {
   "cell_type": "code",
   "execution_count": 37,
   "id": "8d09f2c4-5840-4b8b-a079-f0eeb0544e61",
   "metadata": {},
   "outputs": [
    {
     "name": "stdout",
     "output_type": "stream",
     "text": [
      "Simulated probability that the sum of 2 dice is 7: 0.1666\n",
      "Real probability that the sum of 2 dice is 7: 0.1667\n"
     ]
    }
   ],
   "source": [
    "# Two-dice sum simulation\n",
    "N = 10_000 #number of roll simulations\n",
    "#Generate N rolls of two dice\n",
    "rolls = rando.randint(low=1, high=7, size=(N,2))\n",
    "\n",
    "#Create new array of the sum of both dice for each simulation\n",
    "rollSums = rolls[:,0] + rolls[:,1]\n",
    "\n",
    "#Count number of times where the sum of both dice was 7\n",
    "place = np.where(rollSums == 7)[0]\n",
    "\n",
    "print(\"Simulated probability that the sum of 2 dice is 7: \"\n",
    "      f\"{place.shape[0]/rollSums.shape[0]:5.4f}\")\n",
    "\n",
    "print(f\"Real probability that the sum of 2 dice is 7: {round(1/6, 4)}\")"
   ]
  },
  {
   "cell_type": "markdown",
   "id": "8e0abcae-7290-487a-8036-b14b5b67d6ae",
   "metadata": {},
   "source": [
    "# 8.4"
   ]
  },
  {
   "cell_type": "code",
   "execution_count": 45,
   "id": "8671281c-e797-4ea7-be03-57d2cc3b45f4",
   "metadata": {},
   "outputs": [
    {
     "name": "stdout",
     "output_type": "stream",
     "text": [
      "Approximate value of the 5D integral: 3.768854563011038\n"
     ]
    }
   ],
   "source": [
    "#Evaluate 5-D integral of xi^2 for i=[1-5] over domain of 5-D unit ball\n",
    "\n",
    "from scipy.special import gamma\n",
    "np.random.seed(42) # Set random seed for reproducibility\n",
    "N = 100_000 #number of samples to generate\n",
    "n = 5 #number of dimensions\n",
    "# Generate N random points in n-D space\n",
    "# between -1 and 1 because of the unit ball domain\n",
    "x = np.random.uniform(-1, 1, (N, n))\n",
    "# count number of generated points found within the bounds of the unit ball\n",
    "k = 0\n",
    "y = np.zeros((N, n)) #create storage array of size == x.size\n",
    "# Monte Carlo simulation to find points inside the unit ball\n",
    "for i in range(N): #loop thru each generated points sample\n",
    "    if np.dot(x[i, :], x[i, :]) < 1: #if points are inside ball bounds\n",
    "        y[k, :] = x[i, :] #store current sample in y array at index of current counter\n",
    "        k += 1 #increment the counter\n",
    "\n",
    "# Extract points inside the unit ball\n",
    "y = y[:k, :]\n",
    "\n",
    "# Define the function inside the integral\n",
    "f = lambda x1, x2, x3, x4, x5: x1**2 + x2**2 + x3**2 + x4**2 + x5**2\n",
    "\n",
    "# Compute the volume of the 5D unit ball\n",
    "V5 = np.pi**(n/2) / gamma(n/2 + 1)\n",
    "\n",
    "# Compute the integral\n",
    "integral = V5 * np.mean(f(y[:, 0], y[:, 1], y[:, 2], y[:, 3], y[:, 4]))\n",
    "print(\"Approximate value of the 5D integral:\", integral)"
   ]
  }
 ],
 "metadata": {
  "kernelspec": {
   "display_name": "Python 3 (ipykernel)",
   "language": "python",
   "name": "python3"
  },
  "language_info": {
   "codemirror_mode": {
    "name": "ipython",
    "version": 3
   },
   "file_extension": ".py",
   "mimetype": "text/x-python",
   "name": "python",
   "nbconvert_exporter": "python",
   "pygments_lexer": "ipython3",
   "version": "3.11.4"
  }
 },
 "nbformat": 4,
 "nbformat_minor": 5
}
